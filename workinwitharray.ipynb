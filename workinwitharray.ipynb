{
 "cells": [
  {
   "cell_type": "code",
   "execution_count": 2,
   "id": "1e1f78f6",
   "metadata": {},
   "outputs": [
    {
     "name": "stdout",
     "output_type": "stream",
     "text": [
      "ID data\n",
      "Content of nd [52 45 72 75 42 14 50 82 55 80]\n",
      "type of nd <class 'numpy.ndarray'>\n",
      "Dimension of nd 1\n",
      "dtype of nd int32\n",
      "shape of nd (10,)\n",
      "size of nd 10\n"
     ]
    }
   ],
   "source": [
    "#a create a 1d array\n",
    "#working with arrays \n",
    "import numpy as np\n",
    "nd=np.random.randint(1,100,size=10)\n",
    "print(\"ID data\")\n",
    "print(\"Content of nd\",nd)\n",
    "print(\"type of nd\",type(nd))\n",
    "print(\"Dimension of nd\",nd.ndim)\n",
    "print(\"dtype of nd\",nd.dtype)\n",
    "print(\"shape of nd\",nd.shape)\n",
    "print(\"size of nd\",nd.size)"
   ]
  },
  {
   "cell_type": "code",
   "execution_count": 3,
   "id": "018f4b39",
   "metadata": {},
   "outputs": [
    {
     "name": "stdout",
     "output_type": "stream",
     "text": [
      "[False  True  True  True False  True  True  True False]\n",
      "[[False  True  True]\n",
      " [ True False  True]\n",
      " [ True  True False]]\n",
      "Dimension of ndo 2\n",
      "shape of ndo (3, 3)\n",
      "Size of ndo 9\n",
      "dtype of ndo bool\n"
     ]
    }
   ],
   "source": [
    "#b Create a boolean array\n",
    "lst=[0,1,2,3,0,6,7,8,0]\n",
    "ndo=np.array(lst,dtype=bool)\n",
    "print(ndo)\n",
    "ndo=ndo.reshape(3,3)\n",
    "print(ndo)\n",
    "print(\"Dimension of ndo\",ndo.ndim)\n",
    "print(\"shape of ndo\",ndo.shape)\n",
    "print(\"Size of ndo\",ndo.size)\n",
    "print(\"dtype of ndo\",ndo.dtype)"
   ]
  },
  {
   "cell_type": "code",
   "execution_count": 4,
   "id": "19b39b63",
   "metadata": {},
   "outputs": [
    {
     "name": "stdout",
     "output_type": "stream",
     "text": [
      "[2 2 9 8 4 9 1 5 3 9]\n",
      "(array([2, 3, 5, 9], dtype=int64),)\n",
      "[9 8 9 9]\n"
     ]
    }
   ],
   "source": [
    "#c extract items that staisfy a given condition from 1d arary\n",
    "import numpy as np\n",
    "ndo=np.random.randint(1,10,size=10)\n",
    "print(ndo)\n",
    "ind=np.where(ndo>5)\n",
    "print(ind)\n",
    "print(ndo[ind])\n"
   ]
  },
  {
   "cell_type": "code",
   "execution_count": 5,
   "id": "cab05651",
   "metadata": {},
   "outputs": [
    {
     "name": "stdout",
     "output_type": "stream",
     "text": [
      "[25 20 30 45 25 70 56]\n"
     ]
    }
   ],
   "source": [
    "#d. Replace items that satisfy a condition with another value in numpy\n",
    "tstate=[10,20,15,18,25,70,56]\n",
    "andhs=[25,19,30,45,67,89,90]\n",
    "t=np.array(tstate)\n",
    "a=np.array(andhs)\n",
    "poll=np.where(t>18,t,a)\n",
    "print(poll)"
   ]
  },
  {
   "cell_type": "code",
   "execution_count": 6,
   "id": "10d2586b",
   "metadata": {},
   "outputs": [
    {
     "name": "stdout",
     "output_type": "stream",
     "text": [
      "[10 20 30 0 0 0]\n",
      "Netsalary\n",
      "[1010 2020 3030 4000 5000 6000]\n"
     ]
    }
   ],
   "source": [
    "#e Replace items that satisfy a condition without affecting the original \n",
    "sal=np.array([1000,2000,3000,4000,5000,6000])\n",
    "comm=np.array([10,20,30,None,None,None])\n",
    "#netsal=sal+comm\n",
    "newcomm=np.where(comm==None,0,comm)\n",
    "print(newcomm)\n",
    "netsal=sal+newcomm\n",
    "print(\"Netsalary\")\n",
    "print(netsal)"
   ]
  },
  {
   "cell_type": "code",
   "execution_count": 8,
   "id": "d5e7e3c7",
   "metadata": {},
   "outputs": [
    {
     "name": "stdout",
     "output_type": "stream",
     "text": [
      "[[29 14 19]\n",
      " [28 32  4]\n",
      " [44 28 27]]\n",
      "[29 14 19 28 32  4 44 28 27]\n"
     ]
    }
   ],
   "source": [
    "#f Reshape an array\n",
    "ndo=np.random.randint(1,50,size=(3,3))\n",
    "print(ndo)\n",
    "ndo1=ndo.reshape(9,)\n",
    "print(ndo1)"
   ]
  },
  {
   "cell_type": "code",
   "execution_count": 9,
   "id": "cdab4752",
   "metadata": {},
   "outputs": [
    {
     "name": "stdout",
     "output_type": "stream",
     "text": [
      "[7 6 6 5 5 9 8 8]\n",
      "[7 6 6 9 8 8]\n"
     ]
    }
   ],
   "source": [
    "#g Extract all numbers btwn a given range from a numpy array\n",
    "ndo=np.random.randint(5,10,size=8)\n",
    "print(ndo)\n",
    "out=np.extract(ndo>5,ndo)\n",
    "print(out)"
   ]
  },
  {
   "cell_type": "code",
   "execution_count": 26,
   "id": "77ede699",
   "metadata": {},
   "outputs": [
    {
     "name": "stdout",
     "output_type": "stream",
     "text": [
      "File is saved successfully.....\n"
     ]
    }
   ],
   "source": [
    "#binary file-save\n",
    "import numpy as np\n",
    "lst=[10,20,30,40,50,60]\n",
    "i=np.array\n",
    "res=np.save(\"out\",i)\n",
    "print(\"File is saved successfully.....\")"
   ]
  },
  {
   "cell_type": "code",
   "execution_count": 28,
   "id": "ff5d5b69",
   "metadata": {},
   "outputs": [
    {
     "ename": "ValueError",
     "evalue": "Object arrays cannot be loaded when allow_pickle=False",
     "output_type": "error",
     "traceback": [
      "\u001b[1;31m---------------------------------------------------------------------------\u001b[0m",
      "\u001b[1;31mValueError\u001b[0m                                Traceback (most recent call last)",
      "Cell \u001b[1;32mIn[28], line 2\u001b[0m\n\u001b[0;32m      1\u001b[0m \u001b[38;5;66;03m#binary file-load\u001b[39;00m\n\u001b[1;32m----> 2\u001b[0m result\u001b[38;5;241m=\u001b[39mnp\u001b[38;5;241m.\u001b[39mload(\u001b[38;5;124m\"\u001b[39m\u001b[38;5;124mdef.npy\u001b[39m\u001b[38;5;124m\"\u001b[39m)\n\u001b[0;32m      3\u001b[0m \u001b[38;5;28mprint\u001b[39m(\u001b[38;5;124m\"\u001b[39m\u001b[38;5;124mFile is loaded Successfully...\u001b[39m\u001b[38;5;124m\"\u001b[39m)\n\u001b[0;32m      4\u001b[0m \u001b[38;5;28mprint\u001b[39m(result)\n",
      "File \u001b[1;32mC:\\ProgramData\\anaconda3\\Lib\\site-packages\\numpy\\lib\\npyio.py:432\u001b[0m, in \u001b[0;36mload\u001b[1;34m(file, mmap_mode, allow_pickle, fix_imports, encoding, max_header_size)\u001b[0m\n\u001b[0;32m    429\u001b[0m         \u001b[38;5;28;01mreturn\u001b[39;00m \u001b[38;5;28mformat\u001b[39m\u001b[38;5;241m.\u001b[39mopen_memmap(file, mode\u001b[38;5;241m=\u001b[39mmmap_mode,\n\u001b[0;32m    430\u001b[0m                                   max_header_size\u001b[38;5;241m=\u001b[39mmax_header_size)\n\u001b[0;32m    431\u001b[0m     \u001b[38;5;28;01melse\u001b[39;00m:\n\u001b[1;32m--> 432\u001b[0m         \u001b[38;5;28;01mreturn\u001b[39;00m \u001b[38;5;28mformat\u001b[39m\u001b[38;5;241m.\u001b[39mread_array(fid, allow_pickle\u001b[38;5;241m=\u001b[39mallow_pickle,\n\u001b[0;32m    433\u001b[0m                                  pickle_kwargs\u001b[38;5;241m=\u001b[39mpickle_kwargs,\n\u001b[0;32m    434\u001b[0m                                  max_header_size\u001b[38;5;241m=\u001b[39mmax_header_size)\n\u001b[0;32m    435\u001b[0m \u001b[38;5;28;01melse\u001b[39;00m:\n\u001b[0;32m    436\u001b[0m     \u001b[38;5;66;03m# Try a pickle\u001b[39;00m\n\u001b[0;32m    437\u001b[0m     \u001b[38;5;28;01mif\u001b[39;00m \u001b[38;5;129;01mnot\u001b[39;00m allow_pickle:\n",
      "File \u001b[1;32mC:\\ProgramData\\anaconda3\\Lib\\site-packages\\numpy\\lib\\format.py:787\u001b[0m, in \u001b[0;36mread_array\u001b[1;34m(fp, allow_pickle, pickle_kwargs, max_header_size)\u001b[0m\n\u001b[0;32m    784\u001b[0m \u001b[38;5;28;01mif\u001b[39;00m dtype\u001b[38;5;241m.\u001b[39mhasobject:\n\u001b[0;32m    785\u001b[0m     \u001b[38;5;66;03m# The array contained Python objects. We need to unpickle the data.\u001b[39;00m\n\u001b[0;32m    786\u001b[0m     \u001b[38;5;28;01mif\u001b[39;00m \u001b[38;5;129;01mnot\u001b[39;00m allow_pickle:\n\u001b[1;32m--> 787\u001b[0m         \u001b[38;5;28;01mraise\u001b[39;00m \u001b[38;5;167;01mValueError\u001b[39;00m(\u001b[38;5;124m\"\u001b[39m\u001b[38;5;124mObject arrays cannot be loaded when \u001b[39m\u001b[38;5;124m\"\u001b[39m\n\u001b[0;32m    788\u001b[0m                          \u001b[38;5;124m\"\u001b[39m\u001b[38;5;124mallow_pickle=False\u001b[39m\u001b[38;5;124m\"\u001b[39m)\n\u001b[0;32m    789\u001b[0m     \u001b[38;5;28;01mif\u001b[39;00m pickle_kwargs \u001b[38;5;129;01mis\u001b[39;00m \u001b[38;5;28;01mNone\u001b[39;00m:\n\u001b[0;32m    790\u001b[0m         pickle_kwargs \u001b[38;5;241m=\u001b[39m {}\n",
      "\u001b[1;31mValueError\u001b[0m: Object arrays cannot be loaded when allow_pickle=False"
     ]
    }
   ],
   "source": [
    "#binary file-load\n",
    "result=np.load(\"out.npy\")\n",
    "print(\"File is loaded Successfully...\")\n",
    "print(result)"
   ]
  },
  {
   "cell_type": "code",
   "execution_count": 30,
   "id": "003f4700",
   "metadata": {},
   "outputs": [
    {
     "name": "stdout",
     "output_type": "stream",
     "text": [
      "My text File is saved successfully\n",
      "None\n"
     ]
    }
   ],
   "source": [
    "lst=[100,200,300,400,500]\n",
    "a=np.array(lst)\n",
    "result=np.savetxt(\"outt.txt\",a)\n",
    "print(\"My text File is saved successfully\")\n",
    "print(result)"
   ]
  },
  {
   "cell_type": "code",
   "execution_count": 31,
   "id": "ab1e8254",
   "metadata": {},
   "outputs": [
    {
     "name": "stdout",
     "output_type": "stream",
     "text": [
      "My text file is loaded successfully\n",
      "[100. 200. 300. 400. 500.]\n"
     ]
    }
   ],
   "source": [
    "r=np.loadtxt(\"outt.txt\")\n",
    "print(\"My text file is loaded successfully\")\n",
    "print(r)"
   ]
  },
  {
   "cell_type": "code",
   "execution_count": 32,
   "id": "72e19150",
   "metadata": {},
   "outputs": [
    {
     "name": "stdout",
     "output_type": "stream",
     "text": [
      "csv files saved successfully\n"
     ]
    }
   ],
   "source": [
    "lst=[15,25,50,75.100]\n",
    "c=np.array(lst)\n",
    "r=np.savetxt(\"outc.csv\",c,delimiter=',')\n",
    "print(\"csv files saved successfully\")"
   ]
  },
  {
   "cell_type": "code",
   "execution_count": null,
   "id": "d71878e3",
   "metadata": {},
   "outputs": [],
   "source": []
  }
 ],
 "metadata": {
  "kernelspec": {
   "display_name": "Python 3 (ipykernel)",
   "language": "python",
   "name": "python3"
  },
  "language_info": {
   "codemirror_mode": {
    "name": "ipython",
    "version": 3
   },
   "file_extension": ".py",
   "mimetype": "text/x-python",
   "name": "python",
   "nbconvert_exporter": "python",
   "pygments_lexer": "ipython3",
   "version": "3.11.4"
  }
 },
 "nbformat": 4,
 "nbformat_minor": 5
}
