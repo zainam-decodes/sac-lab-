{
 "cells": [
  {
   "cell_type": "code",
   "execution_count": 13,
   "id": "d6a43e0f",
   "metadata": {},
   "outputs": [
    {
     "name": "stdout",
     "output_type": "stream",
     "text": [
      "****************************************\n",
      "A array\n",
      "****************************************\n",
      "content of a [10 20 30 40]\n",
      "dimension of a 1\n",
      "dtype of a int64\n",
      "shape of a (4,)\n",
      "size of a 4\n",
      "****************************************\n",
      "B array\n",
      "****************************************\n",
      "content of b [60 70 80 90]\n",
      "dimension of b 1\n",
      "dtype of b int64\n",
      "shape of b (4,)\n",
      "size of b 4\n",
      "****************************************\n",
      "C array\n",
      "****************************************\n",
      "content of c\n",
      " [[10 20 30 40]\n",
      " [60 70 80 90]]\n",
      "dimension of c 2\n",
      "dtype of c int64\n",
      "shape of c (2, 4)\n",
      "size of c 8\n"
     ]
    }
   ],
   "source": [
    "#multiple arrays\n",
    "#stack two arrays vertically\n",
    "import numpy as np\n",
    "lst1=[10,20,30,40]\n",
    "lst2=[60,70,80,90]\n",
    "a=np.array(lst1)\n",
    "print(\"*\"*40)\n",
    "print(\"A array\")\n",
    "print(\"*\"*40)\n",
    "print(\"content of a\",a)\n",
    "print(\"dimension of a\",a.ndim)\n",
    "print(\"dtype of a\",a.dtype)\n",
    "print(\"shape of a\",a.shape)\n",
    "print(\"size of a\",a.size)\n",
    "b=np.array(lst2)\n",
    "print(\"*\"*40)\n",
    "print(\"B array\")\n",
    "print(\"*\"*40)\n",
    "print(\"content of b\",b)\n",
    "print(\"dimension of b\",b.ndim)\n",
    "print(\"dtype of b\",b.dtype)\n",
    "print(\"shape of b\",b.shape)\n",
    "print(\"size of b\",b.size)\n",
    "#c=numpy.vstack([a,b])\n",
    "c=np.vstack([a,b])\n",
    "print(\"*\"*40)\n",
    "print(\"C array\")\n",
    "print(\"*\"*40)\n",
    "print(\"content of c\\n\",c)\n",
    "print(\"dimension of c\",c.ndim)\n",
    "print(\"dtype of c\",c.dtype)\n",
    "print(\"shape of c\",c.shape)\n",
    "print(\"size of c\",c.size)\n",
    "\n",
    "\n"
   ]
  },
  {
   "cell_type": "code",
   "execution_count": 12,
   "id": "abf22463",
   "metadata": {},
   "outputs": [
    {
     "name": "stdout",
     "output_type": "stream",
     "text": [
      "****************************************\n",
      "A array\n",
      "****************************************\n",
      "content of a [10 20 30 40]\n",
      "dimension of a 1\n",
      "dtype of a int64\n",
      "shape of a (4,)\n",
      "size of a 4\n",
      "****************************************\n",
      "B array\n",
      "****************************************\n",
      "content of b [60 70 80 90]\n",
      "dimension of b 1\n",
      "dtype of b int64\n",
      "shape of b (4,)\n",
      "size of b 4\n",
      "****************************************\n",
      "C array\n",
      "****************************************\n",
      "content of c\n",
      " [10 20 30 40 60 70 80 90]\n",
      "dimension of c 1\n",
      "dtype of c int64\n",
      "shape of c (8,)\n",
      "size of c 8\n"
     ]
    }
   ],
   "source": [
    "#multiple arrays\n",
    "#b stack two arrays horizontally\n",
    "#multiple arrays\n",
    "#stack two arrays vertically\n",
    "import numpy as np\n",
    "lst1=[10,20,30,40]\n",
    "lst2=[60,70,80,90]\n",
    "a=np.array(lst1)\n",
    "print(\"*\"*40)\n",
    "print(\"A array\")\n",
    "print(\"*\"*40)\n",
    "print(\"content of a\",a)\n",
    "print(\"dimension of a\",a.ndim)\n",
    "print(\"dtype of a\",a.dtype)\n",
    "print(\"shape of a\",a.shape)\n",
    "print(\"size of a\",a.size)\n",
    "b=np.array(lst2)\n",
    "print(\"*\"*40)\n",
    "print(\"B array\")\n",
    "print(\"*\"*40)\n",
    "print(\"content of b\",b)\n",
    "print(\"dimension of b\",b.ndim)\n",
    "print(\"dtype of b\",b.dtype)\n",
    "print(\"shape of b\",b.shape)\n",
    "print(\"size of b\",b.size)\n",
    "#c=numpy.hstack([a,b])\n",
    "c=np.hstack([a,b])\n",
    "print(\"*\"*40)\n",
    "print(\"C array\")\n",
    "print(\"*\"*40)\n",
    "print(\"content of c\\n\",c)\n",
    "print(\"dimension of c\",c.ndim)\n",
    "print(\"dtype of c\",c.dtype)\n",
    "print(\"shape of c\",c.shape)\n",
    "print(\"size of c\",c.size)\n",
    "\n"
   ]
  },
  {
   "cell_type": "code",
   "execution_count": 32,
   "id": "920e4336",
   "metadata": {},
   "outputs": [
    {
     "name": "stdout",
     "output_type": "stream",
     "text": [
      "Multidimensional array\n",
      "Content of a\n",
      " [[94 39 91]\n",
      " [64 91 27]\n",
      " [96 73 86]\n",
      " [25 32 62]]\n",
      "Dimension of a 2\n",
      "Shape of a (4, 3)\n",
      "Size of a 12\n",
      "dtype of a int32\n",
      "Flat Data or 1D\n",
      "One dimensional array\n",
      "Content of b\n",
      " [94 39 91 64 91 27 96 73 86 25 32 62]\n",
      "Dimension of b 1\n",
      "Shape of b (12,)\n",
      "Size of b 12\n",
      "dtype of b int32\n",
      "Flat Data or 1D\n"
     ]
    }
   ],
   "source": [
    "#4 multi-dimensional arrays\n",
    "#a. convert an array of arrays\n",
    "import numpy as np\n",
    "a=np.random.randint(1,100,size=(4,3))\n",
    "print(\"Multidimensional array\")\n",
    "print(\"Content of a\\n\",a)\n",
    "print(\"Dimension of a\",a.ndim)\n",
    "print(\"Shape of a\",a.shape)\n",
    "print(\"Size of a\",a.size)\n",
    "print(\"dtype of a\",a.dtype)\n",
    "print(\"Flat Data or 1D\")\n",
    "\n",
    "b=a.reshape(12,)\n",
    "print(\"One dimensional array\")\n",
    "print(\"Content of b\\n\",b)\n",
    "print(\"Dimension of b\",b.ndim)\n",
    "print(\"Shape of b\",b.shape)\n",
    "print(\"Size of b\",b.size)\n",
    "print(\"dtype of b\",b.dtype)\n",
    "print(\"Flat Data or 1D\")\n"
   ]
  },
  {
   "cell_type": "code",
   "execution_count": 26,
   "id": "1d47c0a0",
   "metadata": {},
   "outputs": [
    {
     "name": "stdout",
     "output_type": "stream",
     "text": [
      "[[148 264  39]\n",
      " [215  89   8]\n",
      " [161 145  59]]\n",
      "[[39]\n",
      " [ 8]\n",
      " [59]]\n",
      "[[264]\n",
      " [ 89]\n",
      " [145]]\n",
      "[[148]\n",
      " [215]\n",
      " [161]]\n",
      "<zip object at 0x0000023CEEDBF980>\n",
      "(array([39], dtype=int32), array([264], dtype=int32), array([148], dtype=int32))\n",
      "(array([8], dtype=int32), array([89], dtype=int32), array([215], dtype=int32))\n",
      "(array([59], dtype=int32), array([145], dtype=int32), array([161], dtype=int32))\n"
     ]
    }
   ],
   "source": [
    "#b swap two columns in a 2d numpy array\n",
    "import numpy as np\n",
    "a=np.random.randint(1,300,size=(3,3))\n",
    "print(a)\n",
    "x=a[:,[2]]\n",
    "y=a[:,[1]]\n",
    "z=a[:,[0]]\n",
    "print(x)\n",
    "print(y)\n",
    "print(z)\n",
    "zi=zip(x,y,z)\n",
    "print(zi)\n",
    "for i in zi:\n",
    "    print(i)\n",
    "    \n"
   ]
  },
  {
   "cell_type": "code",
   "execution_count": 27,
   "id": "8c197c8f",
   "metadata": {},
   "outputs": [
    {
     "name": "stdout",
     "output_type": "stream",
     "text": [
      "[[ 42 146 226]\n",
      " [121 144 225]\n",
      " [ 12 143 238]]\n",
      "[[226 146  42]\n",
      " [225 144 121]\n",
      " [238 143  12]]\n"
     ]
    }
   ],
   "source": [
    "#b swap two columns in a 2d numpy array\n",
    "import numpy as np\n",
    "a=np.random.randint(1,300,size=(3,3))\n",
    "print(a)\n",
    "a[:,[0,2]]=a[:,[2,0]]\n",
    "print(a)"
   ]
  },
  {
   "cell_type": "code",
   "execution_count": 30,
   "id": "33d47315",
   "metadata": {},
   "outputs": [
    {
     "name": "stdout",
     "output_type": "stream",
     "text": [
      "[[269  36  52]\n",
      " [157  30 292]\n",
      " [158 242 103]]\n",
      "<zip object at 0x0000023CEED4BDC0>\n",
      "(array([52], dtype=int32), array([36], dtype=int32), array([269], dtype=int32))\n",
      "(array([292], dtype=int32), array([30], dtype=int32), array([157], dtype=int32))\n",
      "(array([103], dtype=int32), array([242], dtype=int32), array([158], dtype=int32))\n"
     ]
    }
   ],
   "source": [
    "#b swap two columns in a 2d numpy array\n",
    "import numpy as np\n",
    "a=np.random.randint(1,300,size=(3,3))\n",
    "print(a)\n",
    "x=a[:,[2]]\n",
    "y=a[:,[1]]\n",
    "z=a[:,[0]]\n",
    "#fancy index\n",
    "zi=zip(x,y,z)\n",
    "print(zi)\n",
    "for i in zi:\n",
    "    print(i)\n",
    "    \n",
    "\n",
    "   "
   ]
  },
  {
   "cell_type": "code",
   "execution_count": null,
   "id": "1bdcf01c",
   "metadata": {},
   "outputs": [],
   "source": [
    "#multi dimensional array\n",
    "\n",
    "#a convert a"
   ]
  }
 ],
 "metadata": {
  "kernelspec": {
   "display_name": "Python 3 (ipykernel)",
   "language": "python",
   "name": "python3"
  },
  "language_info": {
   "codemirror_mode": {
    "name": "ipython",
    "version": 3
   },
   "file_extension": ".py",
   "mimetype": "text/x-python",
   "name": "python",
   "nbconvert_exporter": "python",
   "pygments_lexer": "ipython3",
   "version": "3.11.4"
  }
 },
 "nbformat": 4,
 "nbformat_minor": 5
}
