{
 "cells": [
  {
   "cell_type": "code",
   "execution_count": 2,
   "id": "f9056901",
   "metadata": {},
   "outputs": [
    {
     "name": "stdout",
     "output_type": "stream",
     "text": [
      "[10 20 30 0 0 0 0 0]\n"
     ]
    }
   ],
   "source": [
    "#6 DATA CLEANING \n",
    "#A. Find the position of missing values \n",
    "import numpy as np\n",
    "salary=np.array([1000,2000,3000,4000,5000,6000,7000])\n",
    "comm=np.array([10,20,30,None,None,None,None,None])\n",
    "newcomm=np.where(comm==None,0,comm)\n",
    "print(newcomm)"
   ]
  },
  {
   "cell_type": "code",
   "execution_count": 33,
   "id": "3ac254a7",
   "metadata": {},
   "outputs": [
    {
     "name": "stdout",
     "output_type": "stream",
     "text": [
      "salary:\n",
      "[ 1000  2000  3000  4000  5000  2500 35000]\n",
      "comm:\n",
      "[10 20 30 None None 25 None]\n",
      "\n",
      " Missing values positions are:\n",
      " (array([3, 4, 6]),)\n"
     ]
    }
   ],
   "source": [
    "#6 DATA CLEANING \n",
    "#A. FIND THE POSITION OF MISSING VALUES IN NUMPY ARRAY\n",
    "import numpy as np\n",
    "sal=np.array([1000,2000,3000,4000,5000,2500,35000])\n",
    "comm=np.array([10,20,30,None,None,25,None])\n",
    "print(\"salary:\")\n",
    "print(sal)\n",
    "print(\"comm:\")\n",
    "print(comm)\n",
    "pos=np.where(comm==None)\n",
    "print(\"\\n Missing values positions are:\\n\",pos)\n",
    "\n"
   ]
  },
  {
   "cell_type": "code",
   "execution_count": 32,
   "id": "b8c90a53",
   "metadata": {},
   "outputs": [
    {
     "name": "stdout",
     "output_type": "stream",
     "text": [
      "****************************************\n",
      "Numpy array\n",
      "[[ 1.  2. nan]\n",
      " [ 3.  4.  5.]\n",
      " [ 6.  7.  8.]\n",
      " [ 9. 10. 11.]]\n",
      "****************************************\n",
      "Missing values from numpy array:\n",
      "\n",
      "[[ 1.  2. nan]]\n",
      "****************************************\n",
      "Drop rows that contain a missing value from a numpy array\n",
      "[[ 3.  4.  5.]\n",
      " [ 6.  7.  8.]\n",
      " [ 9. 10. 11.]]\n"
     ]
    }
   ],
   "source": [
    "#B. Drop rows that contain a missing value from a numpy array\n",
    "import numpy as np\n",
    "lst=[[1,2,np.nan],[3,4,5,],[6,7,8],[9,10,11]]\n",
    "a=np.array(lst)\n",
    "print(\"*\"*40)\n",
    "print(\"Numpy array\")\n",
    "print(a)\n",
    "print(\"*\"*40)\n",
    "# syntax resobj=numpy.isnan(ndarrayobject)\n",
    "#syntax any(pass axis)\n",
    "print(\"Missing values from numpy array:\\n\")\n",
    "print(a[np.isnan(a).any(axis=1)])\n",
    "#syntax for dropping the rows\n",
    "print(\"*\"*40)\n",
    "print(\"Drop rows that contain a missing value from a numpy array\")\n",
    "print(a[~np.isnan(a).any(axis=1)])"
   ]
  },
  {
   "cell_type": "code",
   "execution_count": 34,
   "id": "0c074a0f",
   "metadata": {},
   "outputs": [
    {
     "name": "stdout",
     "output_type": "stream",
     "text": [
      "Replace all missing values with 0 in a numpy array\n",
      "content of [10 20 30 0 0 0 0]\n",
      "dimension 1\n",
      "shape (7,)\n",
      "size 7\n",
      "dtype object\n",
      "Netsalary\n",
      "[1010 2020 3030 4000 5000 6000 7000]\n"
     ]
    }
   ],
   "source": [
    "#C Replace all missing values with 0 in numpy array\n",
    "sal=np.array([1000,2000,3000,4000,5000,6000,7000])\n",
    "comm=np.array([10,20,30,None,None,None,None])\n",
    "newcomm=np.where(comm==None,0,comm)\n",
    "print(\"Replace all missing values with 0 in a numpy array\")\n",
    "print(\"content of\",newcomm)\n",
    "print(\"dimension\",newcomm.ndim)\n",
    "print(\"shape\",newcomm.shape)\n",
    "print(\"size\",newcomm.size)\n",
    "print(\"dtype\",newcomm.dtype)\n",
    "print(\"Netsalary\")\n",
    "net=sal+newcomm\n",
    "print(net)"
   ]
  },
  {
   "cell_type": "code",
   "execution_count": 37,
   "id": "1f463830",
   "metadata": {},
   "outputs": [
    {
     "name": "stdout",
     "output_type": "stream",
     "text": [
      "[[ 1.  2. nan]\n",
      " [ 3.  4.  5.]\n",
      " [ 6.  7. nan]\n",
      " [ 9. 10. nan]]\n",
      "****************************************\n",
      "Finding the missing values=true/false\n",
      "****************************************\n"
     ]
    },
    {
     "data": {
      "text/plain": [
       "array([[False, False,  True],\n",
       "       [False, False, False],\n",
       "       [False, False,  True],\n",
       "       [False, False,  True]])"
      ]
     },
     "execution_count": 37,
     "metadata": {},
     "output_type": "execute_result"
    }
   ],
   "source": [
    "lst=[[1,2,np.nan],[3,4,5,],[6,7,np.nan],[9,10,np.nan]]\n",
    "a=np.array(lst)\n",
    "print(a)\n",
    "print(\"*\"*40)\n",
    "print(\"Finding the missing values=true/false\")\n",
    "print(\"*\"*40)\n",
    "np.isnan(a)"
   ]
  },
  {
   "cell_type": "code",
   "execution_count": 7,
   "id": "3a8dacf7",
   "metadata": {},
   "outputs": [
    {
     "name": "stdout",
     "output_type": "stream",
     "text": [
      "[[ 1.  2. nan]\n",
      " [ 3.  4.  5.]\n",
      " [ 6.  7. nan]\n",
      " [ 9. 10. nan]]\n"
     ]
    },
    {
     "data": {
      "text/plain": [
       "array([[False, False,  True],\n",
       "       [False, False, False],\n",
       "       [False, False,  True],\n",
       "       [False, False,  True]])"
      ]
     },
     "execution_count": 7,
     "metadata": {},
     "output_type": "execute_result"
    }
   ],
   "source": [
    "lst=[[1,2,np.nan],[3,4,5,],[6,7,np.nan],[9,10,np.nan]]\n",
    "a=np.array(lst)\n",
    "print(a)\n",
    "np.isnan(a)"
   ]
  },
  {
   "cell_type": "code",
   "execution_count": 39,
   "id": "a44254d5",
   "metadata": {},
   "outputs": [
    {
     "name": "stdout",
     "output_type": "stream",
     "text": [
      "ORIGINAL ARRAY:\n",
      "[[1 2 3 None]\n",
      " [None 8 5 6]\n",
      " [7 8 None 9]]\n",
      "Drop all missing values from numpy array:\n",
      "[1 2 3 8 5 6 7 8 9]\n"
     ]
    }
   ],
   "source": [
    "#d Drop all misising values from a numpy array\n",
    "lst=[[1,2,3,None],[None,8,5,6],[7,8,None,9]]\n",
    "a=np.array(lst)\n",
    "print(\"ORIGINAL ARRAY:\")\n",
    "print(a)\n",
    "res=np.extract(a!=None,a)\n",
    "print(\"Drop all missing values from numpy array:\")\n",
    "print(res)"
   ]
  },
  {
   "cell_type": "code",
   "execution_count": null,
   "id": "8384c4c1",
   "metadata": {},
   "outputs": [],
   "source": []
  }
 ],
 "metadata": {
  "kernelspec": {
   "display_name": "Python 3 (ipykernel)",
   "language": "python",
   "name": "python3"
  },
  "language_info": {
   "codemirror_mode": {
    "name": "ipython",
    "version": 3
   },
   "file_extension": ".py",
   "mimetype": "text/x-python",
   "name": "python",
   "nbconvert_exporter": "python",
   "pygments_lexer": "ipython3",
   "version": "3.11.4"
  }
 },
 "nbformat": 4,
 "nbformat_minor": 5
}
