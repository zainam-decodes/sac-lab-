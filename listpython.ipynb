{
 "cells": [
  {
   "cell_type": "code",
   "execution_count": 1,
   "id": "7f605ce7",
   "metadata": {},
   "outputs": [
    {
     "name": "stdout",
     "output_type": "stream",
     "text": [
      "10 <class 'int'> 140712099812424\n"
     ]
    }
   ],
   "source": [
    "a=10\n",
    "print(a,type(a),id(a))"
   ]
  },
  {
   "cell_type": "code",
   "execution_count": 2,
   "id": "c2bed492",
   "metadata": {},
   "outputs": [
    {
     "name": "stdout",
     "output_type": "stream",
     "text": [
      "11.3 <class 'float'> 2002342969296\n"
     ]
    }
   ],
   "source": [
    "b=11.3\n",
    "print(b,type(b),id(b))"
   ]
  },
  {
   "cell_type": "code",
   "execution_count": 3,
   "id": "70632d6c",
   "metadata": {},
   "outputs": [
    {
     "name": "stdout",
     "output_type": "stream",
     "text": [
      "True <class 'bool'> 140712098343456\n"
     ]
    }
   ],
   "source": [
    "c=True\n",
    "print(c,type(c),id(c))"
   ]
  },
  {
   "cell_type": "code",
   "execution_count": 4,
   "id": "3f2efa4b",
   "metadata": {},
   "outputs": [
    {
     "name": "stdout",
     "output_type": "stream",
     "text": [
      "(2+4j) <class 'complex'> 2002342968880\n"
     ]
    }
   ],
   "source": [
    "d=2+4j\n",
    "print(d,type(d),id(d))"
   ]
  },
  {
   "cell_type": "code",
   "execution_count": 7,
   "id": "dcd499d7",
   "metadata": {},
   "outputs": [
    {
     "name": "stdout",
     "output_type": "stream",
     "text": [
      "10 <class 'int'>\n",
      "10 <class 'numpy.ndarray'>\n",
      "dimension 0\n",
      "data type int32\n",
      "shape ofndarray ()\n",
      "size of ndarray 1\n"
     ]
    }
   ],
   "source": [
    "#converting int data type int ndarray object\n",
    "import numpy as np\n",
    "a=10\n",
    "print(a,type(a))\n",
    "ndo=np.array(a)\n",
    "print(ndo,type(ndo))\n",
    "print(\"dimension\",ndo.ndim)\n",
    "print(\"data type\",ndo.dtype)\n",
    "print(\"shape ofndarray\",ndo.shape)\n",
    "print(\"size of ndarray\",ndo.size)"
   ]
  },
  {
   "cell_type": "code",
   "execution_count": 8,
   "id": "e6952133",
   "metadata": {},
   "outputs": [
    {
     "name": "stdout",
     "output_type": "stream",
     "text": [
      "14.5 <class 'float'>\n",
      "14.5 <class 'numpy.ndarray'>\n",
      "dimension 0\n",
      "data type float64\n",
      "shape of ndarray ()\n",
      "size of ndarray 1\n"
     ]
    }
   ],
   "source": [
    "import numpy as np\n",
    "a=14.5\n",
    "print(a,type(a))\n",
    "ndo=np.array(a)\n",
    "print(ndo,type(ndo))\n",
    "print(\"dimension\",ndo.ndim)\n",
    "print(\"data type\",ndo.dtype)\n",
    "print(\"shape of ndarray\",ndo.shape)\n",
    "print(\"size of ndarray\",ndo.size)"
   ]
  },
  {
   "cell_type": "code",
   "execution_count": 9,
   "id": "a715cdd7",
   "metadata": {},
   "outputs": [
    {
     "name": "stdout",
     "output_type": "stream",
     "text": [
      "True <class 'bool'>\n",
      "True <class 'numpy.ndarray'>\n",
      "dimension 0\n",
      "data type bool\n",
      "shape of ndarray ()\n",
      "size of ndarray 1\n"
     ]
    }
   ],
   "source": [
    "import numpy as np\n",
    "a=True\n",
    "print(a,type(a))\n",
    "ndo=np.array(a)\n",
    "print(ndo,type(ndo))\n",
    "print(\"dimension\",ndo.ndim)\n",
    "print(\"data type\",ndo.dtype)\n",
    "print(\"shape of ndarray\",ndo.shape)\n",
    "print(\"size of ndarray\",ndo.size)"
   ]
  },
  {
   "cell_type": "code",
   "execution_count": 10,
   "id": "8f7fabe4",
   "metadata": {},
   "outputs": [
    {
     "name": "stdout",
     "output_type": "stream",
     "text": [
      "(5+7j) <class 'complex'>\n",
      "(5+7j) <class 'numpy.ndarray'>\n",
      "dimension 0\n",
      "data type complex128\n",
      "shape of ndarray ()\n",
      "size of ndarray 1\n"
     ]
    }
   ],
   "source": [
    "import numpy as np\n",
    "a=5+7j\n",
    "print(a,type(a))\n",
    "ndo=np.array(a)\n",
    "print(ndo,type(ndo))\n",
    "print(\"dimension\",ndo.ndim)\n",
    "print(\"data type\",ndo.dtype)\n",
    "print(\"shape of ndarray\",ndo.shape)\n",
    "print(\"size of ndarray\",ndo.size)"
   ]
  },
  {
   "cell_type": "code",
   "execution_count": 11,
   "id": "37c53226",
   "metadata": {},
   "outputs": [
    {
     "name": "stdout",
     "output_type": "stream",
     "text": [
      "<class 'range'> <class 'type'>\n",
      "<class 'range'> <class 'numpy.ndarray'>\n",
      "dimension 0\n",
      "data type object\n",
      "shape of ndarray ()\n",
      "size of ndarray 1\n"
     ]
    }
   ],
   "source": [
    "import numpy as np\n",
    "a=range\n",
    "print(a,type(a))\n",
    "ndo=np.array(a)\n",
    "print(ndo,type(ndo))\n",
    "print(\"dimension\",ndo.ndim)\n",
    "print(\"data type\",ndo.dtype)\n",
    "print(\"shape of ndarray\",ndo.shape)\n",
    "print(\"size of ndarray\",ndo.size)"
   ]
  },
  {
   "cell_type": "code",
   "execution_count": 12,
   "id": "9432a460",
   "metadata": {},
   "outputs": [
    {
     "name": "stdout",
     "output_type": "stream",
     "text": [
      "[10, 14, 31, 'Rossum', True, (2+5j)] <class 'list'>\n",
      "['10' '14' '31' 'Rossum' 'True' '(2+5j)'] <class 'numpy.ndarray'>\n",
      "dimension 1\n",
      "data type <U64\n",
      "shape of ndarray (6,)\n",
      "size of ndarray 6\n"
     ]
    }
   ],
   "source": [
    "import numpy as np\n",
    "a=[10,14,31,\"Rossum\",True,(2+5j)]\n",
    "print(a,type(a))\n",
    "ndo=np.array(a)\n",
    "print(ndo,type(ndo))\n",
    "print(\"dimension\",ndo.ndim)\n",
    "print(\"data type\",ndo.dtype)\n",
    "print(\"shape of ndarray\",ndo.shape)\n",
    "print(\"size of ndarray\",ndo.size)"
   ]
  },
  {
   "cell_type": "code",
   "execution_count": 13,
   "id": "5705c378",
   "metadata": {},
   "outputs": [
    {
     "name": "stdout",
     "output_type": "stream",
     "text": [
      "[[10, 20, 30], [40, 50, 60], [70, 80, 90]]\n",
      "[[10 20 30]\n",
      " [40 50 60]\n",
      " [70 80 90]]\n"
     ]
    }
   ],
   "source": [
    "list=[[10,20,30],[40,50,60],[70,80,90]]\n",
    "print(list)\n",
    "ndo=np.array(list)\n",
    "print(ndo)"
   ]
  },
  {
   "cell_type": "code",
   "execution_count": 14,
   "id": "1b4c40c1",
   "metadata": {},
   "outputs": [
    {
     "name": "stdout",
     "output_type": "stream",
     "text": [
      "[1, 2, 3, 4, 5, 6]\n",
      "[ 4 10 18]\n"
     ]
    }
   ],
   "source": [
    "ls=[1,2,3]\n",
    "ls2=[4,5,6]\n",
    "ls3=ls+ls2\n",
    "print(ls3)\n",
    "nd1=np.array(ls)\n",
    "nd2=np.array(ls2)\n",
    "print(np.multiply(ls,ls2))"
   ]
  },
  {
   "cell_type": "code",
   "execution_count": 21,
   "id": "ff6ac6a5",
   "metadata": {},
   "outputs": [
    {
     "name": "stdout",
     "output_type": "stream",
     "text": [
      "[1, 2, 3, 4, 5, 6]\n",
      "[5 7 9]\n",
      "[-3 -3 -3]\n"
     ]
    }
   ],
   "source": [
    "ls=[1,2,3]\n",
    "ls2=[4,5,6]\n",
    "ls3=ls+ls2\n",
    "print(ls3)\n",
    "nd1=np.array(ls)\n",
    "nd2=np.array(ls2)\n",
    "print(nd1+nd2)\n",
    "print(np.subtract(ls,ls2))"
   ]
  },
  {
   "cell_type": "code",
   "execution_count": 25,
   "id": "49b424b8",
   "metadata": {},
   "outputs": [
    {
     "name": "stdout",
     "output_type": "stream",
     "text": [
      "[10, 20, 30, 40] <class 'list'>\n",
      "10\n",
      "20\n",
      "30\n",
      "40\n"
     ]
    }
   ],
   "source": [
    "lst=[10,20,30,40]\n",
    "print(lst,type(lst))\n",
    "for i in lst:\n",
    "    print (i)"
   ]
  },
  {
   "cell_type": "code",
   "execution_count": 28,
   "id": "05eafd62",
   "metadata": {},
   "outputs": [
    {
     "name": "stdout",
     "output_type": "stream",
     "text": [
      "[1, 2, 3, 4, 5, 6, 7, 8, 9]\n",
      "[1 2 3 4 5 6 7 8 9]\n",
      "Dimension 1\n",
      "Type od nd int32\n",
      "Shape (9,)\n",
      "Size 9\n",
      "[[1 2 3]\n",
      " [4 5 6]\n",
      " [7 8 9]]\n",
      "Dimension 2\n",
      "Type od nd int32\n",
      "Shape (3, 3)\n",
      "Size 9\n"
     ]
    }
   ],
   "source": [
    "import numpy as np\n",
    "lst=[1,2,3,4,5,6,7,8,9]\n",
    "print(lst)\n",
    "ndo=np.array(lst)\n",
    "print(ndo)\n",
    "print(\"Dimension\",ndo.ndim)\n",
    "print(\"Type od nd\",ndo.dtype)\n",
    "print(\"Shape\",ndo.shape)\n",
    "print(\"Size\",ndo.size)\n",
    "ndo=ndo.reshape(3,3)\n",
    "print(ndo)\n",
    "print(\"Dimension\",ndo.ndim)\n",
    "print(\"Type od nd\",ndo.dtype)\n",
    "print(\"Shape\",ndo.shape)\n",
    "print(\"Size\",ndo.size)"
   ]
  },
  {
   "cell_type": "code",
   "execution_count": 30,
   "id": "a0ed98ca",
   "metadata": {},
   "outputs": [
    {
     "name": "stdout",
     "output_type": "stream",
     "text": [
      "range(0, 4)\n",
      "[0 1 2 3]\n",
      "Dimension 1\n",
      "Type od nd int32\n",
      "Shape (4,)\n",
      "Size 4\n",
      "[[0 1]\n",
      " [2 3]]\n",
      "Dimension 2\n",
      "Type od nd int32\n",
      "Shape (2, 2)\n",
      "Size 4\n"
     ]
    }
   ],
   "source": [
    "import numpy as np\n",
    "lst=range(0,4)\n",
    "print(lst)\n",
    "ndo=np.array(lst)\n",
    "print(ndo)\n",
    "print(\"Dimension\",ndo.ndim)\n",
    "print(\"Type od nd\",ndo.dtype)\n",
    "print(\"Shape\",ndo.shape)\n",
    "print(\"Size\",ndo.size)\n",
    "ndo=ndo.reshape(2,2)\n",
    "print(ndo)\n",
    "print(\"Dimension\",ndo.ndim)\n",
    "print(\"Type od nd\",ndo.dtype)\n",
    "print(\"Shape\",ndo.shape)\n",
    "print(\"Size\",ndo.size)"
   ]
  },
  {
   "cell_type": "code",
   "execution_count": 31,
   "id": "2fe28431",
   "metadata": {},
   "outputs": [
    {
     "name": "stdout",
     "output_type": "stream",
     "text": [
      "(1, 2, 3, 4, 5, 6, 7, 8, 9, 10, 11, 12)\n",
      "[ 1  2  3  4  5  6  7  8  9 10 11 12]\n",
      "Dimension 1\n",
      "Type od nd int32\n",
      "Shape (12,)\n",
      "Size 12\n",
      "[[ 1  2  3]\n",
      " [ 4  5  6]\n",
      " [ 7  8  9]\n",
      " [10 11 12]]\n",
      "Dimension 2\n",
      "Type od nd int32\n",
      "Shape (4, 3)\n",
      "Size 12\n"
     ]
    }
   ],
   "source": [
    "import numpy as np\n",
    "lst=(1,2,3,4,5,6,7,8,9,10,11,12)\n",
    "print(lst)\n",
    "ndo=np.array(lst)\n",
    "print(ndo)\n",
    "print(\"Dimension\",ndo.ndim)\n",
    "print(\"Type od nd\",ndo.dtype)\n",
    "print(\"Shape\",ndo.shape)\n",
    "print(\"Size\",ndo.size)\n",
    "ndo=ndo.reshape(4,3)\n",
    "print(ndo)\n",
    "print(\"Dimension\",ndo.ndim)\n",
    "print(\"Type od nd\",ndo.dtype)\n",
    "print(\"Shape\",ndo.shape)\n",
    "print(\"Size\",ndo.size)"
   ]
  },
  {
   "cell_type": "code",
   "execution_count": 36,
   "id": "75af70cb",
   "metadata": {},
   "outputs": [
    {
     "name": "stdout",
     "output_type": "stream",
     "text": [
      "{1: 'Geeks', 2: 'For', 3: 'Geeks', 4: 'yun', 5: 'rap'}\n",
      "{1: 'Geeks', 2: 'For', 3: 'Geeks', 4: 'yun', 5: 'rap'}\n",
      "Dimension 0\n",
      "Type od nd object\n",
      "Shape ()\n",
      "Size 1\n",
      "[[{1: 'Geeks', 2: 'For', 3: 'Geeks', 4: 'yun', 5: 'rap'}]]\n",
      "Dimension 2\n",
      "Type od nd object\n",
      "Shape (1, 1)\n",
      "Size 1\n"
     ]
    }
   ],
   "source": [
    "import numpy as np\n",
    "lst= {1: 'Geeks', 2: 'For', 3: 'Geeks', 4: 'yun', 5: 'rap'}\n",
    "print(lst)\n",
    "ndo=np.array(lst)\n",
    "print(ndo)\n",
    "print(\"Dimension\",ndo.ndim)\n",
    "print(\"Type od nd\",ndo.dtype)\n",
    "print(\"Shape\",ndo.shape)\n",
    "print(\"Size\",ndo.size)\n",
    "ndo=ndo.reshape(1,1)\n",
    "print(ndo)\n",
    "print(\"Dimension\",ndo.ndim)\n",
    "print(\"Type od nd\",ndo.dtype)\n",
    "print(\"Shape\",ndo.shape)\n",
    "print(\"Size\",ndo.size)"
   ]
  },
  {
   "cell_type": "code",
   "execution_count": null,
   "id": "4ac2de88",
   "metadata": {},
   "outputs": [],
   "source": []
  }
 ],
 "metadata": {
  "kernelspec": {
   "display_name": "Python 3 (ipykernel)",
   "language": "python",
   "name": "python3"
  },
  "language_info": {
   "codemirror_mode": {
    "name": "ipython",
    "version": 3
   },
   "file_extension": ".py",
   "mimetype": "text/x-python",
   "name": "python",
   "nbconvert_exporter": "python",
   "pygments_lexer": "ipython3",
   "version": "3.11.4"
  }
 },
 "nbformat": 4,
 "nbformat_minor": 5
}
